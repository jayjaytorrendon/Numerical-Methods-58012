{
  "nbformat": 4,
  "nbformat_minor": 0,
  "metadata": {
    "colab": {
      "name": "ASSESSMENT 10",
      "provenance": [],
      "authorship_tag": "ABX9TyNOhePH3Enepz6d9QxO4ME8",
      "include_colab_link": true
    },
    "kernelspec": {
      "name": "python3",
      "display_name": "Python 3"
    },
    "language_info": {
      "name": "python"
    }
  },
  "cells": [
    {
      "cell_type": "markdown",
      "metadata": {
        "id": "view-in-github",
        "colab_type": "text"
      },
      "source": [
        "<a href=\"https://colab.research.google.com/github/jayjaytorrendon/Numerical-Methods-58012/blob/main/ASSESSMENT_10.ipynb\" target=\"_parent\"><img src=\"https://colab.research.google.com/assets/colab-badge.svg\" alt=\"Open In Colab\"/></a>"
      ]
    },
    {
      "cell_type": "code",
      "execution_count": 12,
      "metadata": {
        "id": "6iqVxnI444IN",
        "colab": {
          "base_uri": "https://localhost:8080/"
        },
        "outputId": "35ffdd7f-992a-4b6d-c44d-625a3ac9ae7d"
      },
      "outputs": [
        {
          "output_type": "stream",
          "name": "stdout",
          "text": [
            "[0.2 0.5]\n"
          ]
        }
      ],
      "source": [
        "import math\n",
        "import scipy\n",
        "import numpy\n",
        "from scipy.optimize import fsolve\n",
        "def nonlinear(x):\n",
        "  variable = x\n",
        "  eqn = x*x*x-0.39*x+0.07\n",
        "  return eqn\n",
        "result=scipy.optimize.fsolve(nonlinear,(0,1))\n",
        "print(result)"
      ]
    }
  ]
}