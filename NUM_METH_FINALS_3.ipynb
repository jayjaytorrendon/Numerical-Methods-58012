{
  "nbformat": 4,
  "nbformat_minor": 0,
  "metadata": {
    "colab": {
      "name": "NUM METH FINALS 3.ipynb",
      "provenance": [],
      "collapsed_sections": [],
      "authorship_tag": "ABX9TyOy8P40EN/EEqdB6+BzQ9RG",
      "include_colab_link": true
    },
    "kernelspec": {
      "name": "python3",
      "display_name": "Python 3"
    },
    "language_info": {
      "name": "python"
    }
  },
  "cells": [
    {
      "cell_type": "markdown",
      "metadata": {
        "id": "view-in-github",
        "colab_type": "text"
      },
      "source": [
        "<a href=\"https://colab.research.google.com/github/jayjaytorrendon/Numerical-Methods-58012/blob/main/NUM_METH_FINALS_3.ipynb\" target=\"_parent\"><img src=\"https://colab.research.google.com/assets/colab-badge.svg\" alt=\"Open In Colab\"/></a>"
      ]
    },
    {
      "cell_type": "code",
      "execution_count": 31,
      "metadata": {
        "colab": {
          "base_uri": "https://localhost:8080/"
        },
        "id": "eHM3G3hdzrcj",
        "outputId": "a654a0a4-2988-44fc-8c20-7fbb68c1c077"
      },
      "outputs": [
        {
          "output_type": "stream",
          "name": "stdout",
          "text": [
            "[0.36787944 2.71828183]\n"
          ]
        }
      ],
      "source": [
        "import numpy as np\n",
        "\n",
        "eqn=np.array([-1,1])\n",
        "eqn=np.exp(eqn)\n",
        "print(eqn)"
      ]
    }
  ]
}